{
 "cells": [
  {
   "cell_type": "markdown",
   "metadata": {},
   "source": [
    "# How to use GCRCatalogs\n",
    "\n",
    "by Yao-Yuan Mao\n",
    "\n",
    "Links to GitHub code repos: [GCRCatalogs](https://github.com/LSSTDESC/gcr-catalogs) and [GCR](https://github.com/yymao/generic-catalog-reader)\n",
    "\n",
    "**Note: You should be running this notebook at https://jupyter.nersc.gov **"
   ]
  },
  {
   "cell_type": "code",
   "execution_count": 13,
   "metadata": {
    "collapsed": true
   },
   "outputs": [],
   "source": [
    "## adding DESCQA env\n",
    "\n",
    "import sys\n",
    "\n",
    "sys.path.insert(0, '/global/common/cori/contrib/lsst/apps/anaconda/py3-envs/DESCQA/lib/python3.6/site-packages')\n",
    "\n",
    "## Note: if you use Python 2, comment the line above and uncomment the line below\n",
    "#sys.path.insert(0, '/global/common/cori/contrib/lsst/apps/anaconda/py2-envs/DESCQA/lib/python2.7/site-packages')"
   ]
  },
  {
   "cell_type": "markdown",
   "metadata": {},
   "source": [
    "## The basics:\n",
    "\n",
    "- `get_available_catalogs()` lists available catlaogs; returns `dict`.\n",
    "- `load_catalog()` loads the catalog you want; returns an instance of `GCR.BaseGenericCatalog`"
   ]
  },
  {
   "cell_type": "code",
   "execution_count": 2,
   "metadata": {
    "collapsed": false
   },
   "outputs": [],
   "source": [
    "import GCRCatalogs"
   ]
  },
  {
   "cell_type": "code",
   "execution_count": 19,
   "metadata": {
    "collapsed": false
   },
   "outputs": [
    {
     "name": "stdout",
     "output_type": "stream",
     "text": [
      "buzzard_high-res_v1.1\n",
      "buzzard_v1.6\n",
      "buzzard_v1.6_1\n",
      "buzzard_v1.6_2\n",
      "buzzard_v1.6_21\n",
      "buzzard_v1.6_3\n",
      "buzzard_v1.6_5\n",
      "buzzard_v1.6_test\n",
      "dc1\n",
      "proto-dc2_v2.0\n",
      "proto-dc2_v2.0_test\n"
     ]
    }
   ],
   "source": [
    "## list all find available catlaogs, sorted by their name\n",
    "\n",
    "print('\\n'.join(sorted(GCRCatalogs.get_available_catalogs())))"
   ]
  },
  {
   "cell_type": "code",
   "execution_count": 20,
   "metadata": {
    "collapsed": true
   },
   "outputs": [],
   "source": [
    "## load 'proto-dc2_v2.0' catalog\n",
    "\n",
    "gc = GCRCatalogs.load_catalog('proto-dc2_v2.0')"
   ]
  },
  {
   "cell_type": "markdown",
   "metadata": {},
   "source": [
    "## GCR interface"
   ]
  },
  {
   "cell_type": "markdown",
   "metadata": {
    "collapsed": true
   },
   "source": [
    "### quantities\n",
    "\n",
    "- `get_quantities()` loads the quantities you need; takes a `list` and returns `dict`.\n",
    "- `has_quantity()` and `has_quantities()` can check if the quantities you need exist; both return `bool`.\n",
    "- `list_all_quantities()` lists all available catlaogs; returns `list`."
   ]
  },
  {
   "cell_type": "code",
   "execution_count": 3,
   "metadata": {
    "collapsed": false
   },
   "outputs": [
    {
     "data": {
      "text/plain": [
       "{'dec': array([-2.49382043, -2.44488144, -2.47569418, ..., -1.57588255,\n",
       "        -1.57646036, -1.56148183], dtype=float32),\n",
       " 'mag_u_lsst': array([ 22.85408396,  20.89889978,  21.49888417, ...,  25.59293414,\n",
       "         23.05899988,  25.42904369]),\n",
       " 'ra': array([ 2.04602051, -1.90808928,  0.7659331 , ...,  1.62687492,\n",
       "         1.60466111,  1.60804665], dtype=float32)}"
      ]
     },
     "execution_count": 3,
     "metadata": {},
     "output_type": "execute_result"
    }
   ],
   "source": [
    "gc.get_quantities(['mag_u_lsst', 'ra', 'dec'])"
   ]
  },
  {
   "cell_type": "code",
   "execution_count": 5,
   "metadata": {
    "collapsed": false
   },
   "outputs": [
    {
     "data": {
      "text/plain": [
       "True"
      ]
     },
     "execution_count": 5,
     "metadata": {},
     "output_type": "execute_result"
    }
   ],
   "source": [
    "gc.has_quantity('mag_u_lsst')"
   ]
  },
  {
   "cell_type": "code",
   "execution_count": 4,
   "metadata": {
    "collapsed": false
   },
   "outputs": [
    {
     "data": {
      "text/plain": [
       "True"
      ]
     },
     "execution_count": 4,
     "metadata": {},
     "output_type": "execute_result"
    }
   ],
   "source": [
    "gc.has_quantities(['mag_u_lsst', 'ra', 'dec'])"
   ]
  },
  {
   "cell_type": "code",
   "execution_count": 23,
   "metadata": {
    "collapsed": false
   },
   "outputs": [
    {
     "data": {
      "text/plain": [
       "False"
      ]
     },
     "execution_count": 23,
     "metadata": {},
     "output_type": "execute_result"
    }
   ],
   "source": [
    "## Only returns `True` if *all* quantities exist\n",
    "gc.has_quantities(['mag_u_lsst', 'ra', 'dec', 'quantitiy_that_does_not_exist'])"
   ]
  },
  {
   "cell_type": "code",
   "execution_count": 25,
   "metadata": {
    "collapsed": false
   },
   "outputs": [
    {
     "name": "stdout",
     "output_type": "stream",
     "text": [
      "galaxy_id, ra, ra_true, dec, dec_true, redshift, redshift_true, disk_Sersic_index, bulge_Sersic_index, shear_1, shear_2, convergence, magnification, halo_id, halo_mass, is_central, stellar_mass, position_x, position_y, position_z, velocity_x, velocity_y, velocity_z, mag_u_lsst, mag_u_sdss, Mag_true_u_lsst_z0, Mag_true_u_sdss_z0, mag_g_lsst, mag_g_sdss, Mag_true_g_lsst_z0, Mag_true_g_sdss_z0, mag_r_lsst, mag_r_sdss, Mag_true_r_lsst_z0, Mag_true_r_sdss_z0, mag_i_lsst, mag_i_sdss, Mag_true_i_lsst_z0, Mag_true_i_sdss_z0, mag_z_lsst, mag_z_sdss, Mag_true_z_lsst_z0, Mag_true_z_sdss_z0\n"
     ]
    }
   ],
   "source": [
    "print(', '.join(gc.list_all_quantities()))"
   ]
  },
  {
   "cell_type": "markdown",
   "metadata": {},
   "source": [
    "### more info about the catalog\n",
    "\n",
    "- `lightcone` is a `bool`\n",
    "- `cosmology` is a instance of `astropy.cosmology.FLRW`\n",
    "- `get_input_kwargs()` returns a `dict` (when no argument) from the orignal yaml config file. \n",
    "  If a argument if passed, it returns the corresponding value for key=argument"
   ]
  },
  {
   "cell_type": "code",
   "execution_count": 28,
   "metadata": {
    "collapsed": false
   },
   "outputs": [
    {
     "data": {
      "text/plain": [
       "True"
      ]
     },
     "execution_count": 28,
     "metadata": {},
     "output_type": "execute_result"
    }
   ],
   "source": [
    "gc.lightcone"
   ]
  },
  {
   "cell_type": "code",
   "execution_count": 26,
   "metadata": {
    "collapsed": false
   },
   "outputs": [
    {
     "data": {
      "text/plain": [
       "FlatLambdaCDM(H0=71 km / (Mpc s), Om0=0.265, Tcmb0=0 K, Neff=3.04, m_nu=None, Ob0=0.0448)"
      ]
     },
     "execution_count": 26,
     "metadata": {},
     "output_type": "execute_result"
    }
   ],
   "source": [
    "gc.cosmology"
   ]
  },
  {
   "cell_type": "code",
   "execution_count": 27,
   "metadata": {
    "collapsed": false
   },
   "outputs": [
    {
     "name": "stdout",
     "output_type": "stream",
     "text": [
      "ProtoDC2 is a down-scaled version of the catalog to be generated for LSST-DESC DC2.\n",
      "For a description of the catalog and the methods, please see \n",
      "https://confluence.slac.stanford.edu/display/LSSTDESC/Extragalactic+Catalog+Development+for+DC2?preview=%2F227167079%2F228300698%2Fdc2-prototype-catalog_release_2.0.pdf\n",
      "\n"
     ]
    }
   ],
   "source": [
    "print(gc.get_input_kwargs('description'))"
   ]
  },
  {
   "cell_type": "markdown",
   "metadata": {},
   "source": [
    "### more tips on using the quantities\n",
    "\n",
    "#### tip 1\n",
    "`get_quantities()` returns a dictionary, which you can easily turn into a `astropy.table.Table` or `pandas.DataFrame`"
   ]
  },
  {
   "cell_type": "code",
   "execution_count": 30,
   "metadata": {
    "collapsed": true
   },
   "outputs": [],
   "source": [
    "data = gc.get_quantities(['mag_u_lsst', 'ra', 'dec'])"
   ]
  },
  {
   "cell_type": "code",
   "execution_count": 32,
   "metadata": {
    "collapsed": false
   },
   "outputs": [
    {
     "data": {
      "text/html": [
       "<div>\n",
       "<style>\n",
       "    .dataframe thead tr:only-child th {\n",
       "        text-align: right;\n",
       "    }\n",
       "\n",
       "    .dataframe thead th {\n",
       "        text-align: left;\n",
       "    }\n",
       "\n",
       "    .dataframe tbody tr th {\n",
       "        vertical-align: top;\n",
       "    }\n",
       "</style>\n",
       "<table border=\"1\" class=\"dataframe\">\n",
       "  <thead>\n",
       "    <tr style=\"text-align: right;\">\n",
       "      <th></th>\n",
       "      <th>dec</th>\n",
       "      <th>mag_u_lsst</th>\n",
       "      <th>ra</th>\n",
       "    </tr>\n",
       "  </thead>\n",
       "  <tbody>\n",
       "    <tr>\n",
       "      <th>0</th>\n",
       "      <td>-2.493820</td>\n",
       "      <td>22.854084</td>\n",
       "      <td>2.046021</td>\n",
       "    </tr>\n",
       "    <tr>\n",
       "      <th>1</th>\n",
       "      <td>-2.444881</td>\n",
       "      <td>20.898900</td>\n",
       "      <td>-1.908089</td>\n",
       "    </tr>\n",
       "    <tr>\n",
       "      <th>2</th>\n",
       "      <td>-2.475694</td>\n",
       "      <td>21.498884</td>\n",
       "      <td>0.765933</td>\n",
       "    </tr>\n",
       "    <tr>\n",
       "      <th>3</th>\n",
       "      <td>-2.488729</td>\n",
       "      <td>23.390713</td>\n",
       "      <td>-1.918257</td>\n",
       "    </tr>\n",
       "    <tr>\n",
       "      <th>4</th>\n",
       "      <td>-2.498992</td>\n",
       "      <td>23.324795</td>\n",
       "      <td>-1.932602</td>\n",
       "    </tr>\n",
       "    <tr>\n",
       "      <th>5</th>\n",
       "      <td>-2.497787</td>\n",
       "      <td>24.671431</td>\n",
       "      <td>-1.932419</td>\n",
       "    </tr>\n",
       "    <tr>\n",
       "      <th>6</th>\n",
       "      <td>-2.490655</td>\n",
       "      <td>24.665397</td>\n",
       "      <td>-1.927898</td>\n",
       "    </tr>\n",
       "    <tr>\n",
       "      <th>7</th>\n",
       "      <td>-2.488241</td>\n",
       "      <td>25.212185</td>\n",
       "      <td>-1.937515</td>\n",
       "    </tr>\n",
       "    <tr>\n",
       "      <th>8</th>\n",
       "      <td>-2.482193</td>\n",
       "      <td>24.560172</td>\n",
       "      <td>-1.927677</td>\n",
       "    </tr>\n",
       "    <tr>\n",
       "      <th>9</th>\n",
       "      <td>-2.499003</td>\n",
       "      <td>25.115313</td>\n",
       "      <td>-1.929253</td>\n",
       "    </tr>\n",
       "    <tr>\n",
       "      <th>10</th>\n",
       "      <td>-2.476938</td>\n",
       "      <td>23.858041</td>\n",
       "      <td>-1.951828</td>\n",
       "    </tr>\n",
       "    <tr>\n",
       "      <th>11</th>\n",
       "      <td>-2.462078</td>\n",
       "      <td>22.082749</td>\n",
       "      <td>-1.973045</td>\n",
       "    </tr>\n",
       "    <tr>\n",
       "      <th>12</th>\n",
       "      <td>-2.482090</td>\n",
       "      <td>21.456219</td>\n",
       "      <td>-2.096255</td>\n",
       "    </tr>\n",
       "    <tr>\n",
       "      <th>13</th>\n",
       "      <td>-2.437523</td>\n",
       "      <td>20.411777</td>\n",
       "      <td>-2.332593</td>\n",
       "    </tr>\n",
       "    <tr>\n",
       "      <th>14</th>\n",
       "      <td>-2.496593</td>\n",
       "      <td>23.207302</td>\n",
       "      <td>-0.756912</td>\n",
       "    </tr>\n",
       "    <tr>\n",
       "      <th>15</th>\n",
       "      <td>-2.457124</td>\n",
       "      <td>24.303734</td>\n",
       "      <td>-1.995118</td>\n",
       "    </tr>\n",
       "    <tr>\n",
       "      <th>16</th>\n",
       "      <td>-2.491405</td>\n",
       "      <td>24.942023</td>\n",
       "      <td>-0.842069</td>\n",
       "    </tr>\n",
       "    <tr>\n",
       "      <th>17</th>\n",
       "      <td>-2.498049</td>\n",
       "      <td>20.877622</td>\n",
       "      <td>-1.932640</td>\n",
       "    </tr>\n",
       "    <tr>\n",
       "      <th>18</th>\n",
       "      <td>-2.491701</td>\n",
       "      <td>22.228049</td>\n",
       "      <td>-1.918303</td>\n",
       "    </tr>\n",
       "    <tr>\n",
       "      <th>19</th>\n",
       "      <td>-2.481812</td>\n",
       "      <td>23.752953</td>\n",
       "      <td>-0.997947</td>\n",
       "    </tr>\n",
       "    <tr>\n",
       "      <th>20</th>\n",
       "      <td>-2.481117</td>\n",
       "      <td>23.208916</td>\n",
       "      <td>-0.999884</td>\n",
       "    </tr>\n",
       "    <tr>\n",
       "      <th>21</th>\n",
       "      <td>-2.461853</td>\n",
       "      <td>23.715850</td>\n",
       "      <td>-1.709107</td>\n",
       "    </tr>\n",
       "    <tr>\n",
       "      <th>22</th>\n",
       "      <td>-2.487581</td>\n",
       "      <td>22.790951</td>\n",
       "      <td>-0.790925</td>\n",
       "    </tr>\n",
       "    <tr>\n",
       "      <th>23</th>\n",
       "      <td>-2.456740</td>\n",
       "      <td>20.073363</td>\n",
       "      <td>-1.587724</td>\n",
       "    </tr>\n",
       "    <tr>\n",
       "      <th>24</th>\n",
       "      <td>-2.480438</td>\n",
       "      <td>20.251129</td>\n",
       "      <td>-0.988223</td>\n",
       "    </tr>\n",
       "    <tr>\n",
       "      <th>25</th>\n",
       "      <td>-2.488541</td>\n",
       "      <td>24.649878</td>\n",
       "      <td>-0.355587</td>\n",
       "    </tr>\n",
       "    <tr>\n",
       "      <th>26</th>\n",
       "      <td>-2.483016</td>\n",
       "      <td>20.889439</td>\n",
       "      <td>-1.705881</td>\n",
       "    </tr>\n",
       "    <tr>\n",
       "      <th>27</th>\n",
       "      <td>-2.452222</td>\n",
       "      <td>24.304339</td>\n",
       "      <td>-2.020118</td>\n",
       "    </tr>\n",
       "    <tr>\n",
       "      <th>28</th>\n",
       "      <td>-2.492776</td>\n",
       "      <td>24.745613</td>\n",
       "      <td>-2.468736</td>\n",
       "    </tr>\n",
       "    <tr>\n",
       "      <th>29</th>\n",
       "      <td>-2.470114</td>\n",
       "      <td>24.413685</td>\n",
       "      <td>-0.577551</td>\n",
       "    </tr>\n",
       "    <tr>\n",
       "      <th>...</th>\n",
       "      <td>...</td>\n",
       "      <td>...</td>\n",
       "      <td>...</td>\n",
       "    </tr>\n",
       "    <tr>\n",
       "      <th>10022466</th>\n",
       "      <td>-1.505230</td>\n",
       "      <td>23.708363</td>\n",
       "      <td>1.604309</td>\n",
       "    </tr>\n",
       "    <tr>\n",
       "      <th>10022467</th>\n",
       "      <td>-1.598948</td>\n",
       "      <td>24.526492</td>\n",
       "      <td>1.630692</td>\n",
       "    </tr>\n",
       "    <tr>\n",
       "      <th>10022468</th>\n",
       "      <td>-1.579007</td>\n",
       "      <td>25.764100</td>\n",
       "      <td>1.626447</td>\n",
       "    </tr>\n",
       "    <tr>\n",
       "      <th>10022469</th>\n",
       "      <td>-1.540376</td>\n",
       "      <td>26.793652</td>\n",
       "      <td>1.601636</td>\n",
       "    </tr>\n",
       "    <tr>\n",
       "      <th>10022470</th>\n",
       "      <td>-1.584512</td>\n",
       "      <td>26.725769</td>\n",
       "      <td>1.627605</td>\n",
       "    </tr>\n",
       "    <tr>\n",
       "      <th>10022471</th>\n",
       "      <td>-1.571973</td>\n",
       "      <td>25.523858</td>\n",
       "      <td>1.606987</td>\n",
       "    </tr>\n",
       "    <tr>\n",
       "      <th>10022472</th>\n",
       "      <td>-1.507770</td>\n",
       "      <td>27.130554</td>\n",
       "      <td>1.618234</td>\n",
       "    </tr>\n",
       "    <tr>\n",
       "      <th>10022473</th>\n",
       "      <td>-1.507487</td>\n",
       "      <td>26.762693</td>\n",
       "      <td>1.614850</td>\n",
       "    </tr>\n",
       "    <tr>\n",
       "      <th>10022474</th>\n",
       "      <td>-1.495504</td>\n",
       "      <td>27.154435</td>\n",
       "      <td>1.606103</td>\n",
       "    </tr>\n",
       "    <tr>\n",
       "      <th>10022475</th>\n",
       "      <td>-1.576093</td>\n",
       "      <td>29.384039</td>\n",
       "      <td>1.607059</td>\n",
       "    </tr>\n",
       "    <tr>\n",
       "      <th>10022476</th>\n",
       "      <td>-1.570581</td>\n",
       "      <td>28.352868</td>\n",
       "      <td>1.616817</td>\n",
       "    </tr>\n",
       "    <tr>\n",
       "      <th>10022477</th>\n",
       "      <td>-1.569195</td>\n",
       "      <td>23.932302</td>\n",
       "      <td>1.610488</td>\n",
       "    </tr>\n",
       "    <tr>\n",
       "      <th>10022478</th>\n",
       "      <td>-1.564947</td>\n",
       "      <td>25.948968</td>\n",
       "      <td>1.626098</td>\n",
       "    </tr>\n",
       "    <tr>\n",
       "      <th>10022479</th>\n",
       "      <td>-1.571578</td>\n",
       "      <td>26.500836</td>\n",
       "      <td>1.620985</td>\n",
       "    </tr>\n",
       "    <tr>\n",
       "      <th>10022480</th>\n",
       "      <td>-1.507467</td>\n",
       "      <td>27.789902</td>\n",
       "      <td>1.605278</td>\n",
       "    </tr>\n",
       "    <tr>\n",
       "      <th>10022481</th>\n",
       "      <td>-1.590892</td>\n",
       "      <td>25.398300</td>\n",
       "      <td>1.611972</td>\n",
       "    </tr>\n",
       "    <tr>\n",
       "      <th>10022482</th>\n",
       "      <td>-1.576060</td>\n",
       "      <td>27.269351</td>\n",
       "      <td>1.605078</td>\n",
       "    </tr>\n",
       "    <tr>\n",
       "      <th>10022483</th>\n",
       "      <td>-1.574913</td>\n",
       "      <td>28.617125</td>\n",
       "      <td>1.611587</td>\n",
       "    </tr>\n",
       "    <tr>\n",
       "      <th>10022484</th>\n",
       "      <td>-1.550281</td>\n",
       "      <td>28.301127</td>\n",
       "      <td>1.582588</td>\n",
       "    </tr>\n",
       "    <tr>\n",
       "      <th>10022485</th>\n",
       "      <td>-1.543316</td>\n",
       "      <td>26.355287</td>\n",
       "      <td>1.556968</td>\n",
       "    </tr>\n",
       "    <tr>\n",
       "      <th>10022486</th>\n",
       "      <td>-1.505116</td>\n",
       "      <td>26.211712</td>\n",
       "      <td>1.611507</td>\n",
       "    </tr>\n",
       "    <tr>\n",
       "      <th>10022487</th>\n",
       "      <td>-1.526017</td>\n",
       "      <td>27.558156</td>\n",
       "      <td>1.596345</td>\n",
       "    </tr>\n",
       "    <tr>\n",
       "      <th>10022488</th>\n",
       "      <td>-1.497223</td>\n",
       "      <td>27.292099</td>\n",
       "      <td>1.604915</td>\n",
       "    </tr>\n",
       "    <tr>\n",
       "      <th>10022489</th>\n",
       "      <td>-1.500359</td>\n",
       "      <td>26.243309</td>\n",
       "      <td>1.602354</td>\n",
       "    </tr>\n",
       "    <tr>\n",
       "      <th>10022490</th>\n",
       "      <td>-1.499977</td>\n",
       "      <td>25.497607</td>\n",
       "      <td>1.595257</td>\n",
       "    </tr>\n",
       "    <tr>\n",
       "      <th>10022491</th>\n",
       "      <td>-1.578745</td>\n",
       "      <td>25.634294</td>\n",
       "      <td>1.614919</td>\n",
       "    </tr>\n",
       "    <tr>\n",
       "      <th>10022492</th>\n",
       "      <td>-1.587095</td>\n",
       "      <td>24.767562</td>\n",
       "      <td>1.606726</td>\n",
       "    </tr>\n",
       "    <tr>\n",
       "      <th>10022493</th>\n",
       "      <td>-1.575883</td>\n",
       "      <td>25.592934</td>\n",
       "      <td>1.626875</td>\n",
       "    </tr>\n",
       "    <tr>\n",
       "      <th>10022494</th>\n",
       "      <td>-1.576460</td>\n",
       "      <td>23.059000</td>\n",
       "      <td>1.604661</td>\n",
       "    </tr>\n",
       "    <tr>\n",
       "      <th>10022495</th>\n",
       "      <td>-1.561482</td>\n",
       "      <td>25.429044</td>\n",
       "      <td>1.608047</td>\n",
       "    </tr>\n",
       "  </tbody>\n",
       "</table>\n",
       "<p>10022496 rows × 3 columns</p>\n",
       "</div>"
      ],
      "text/plain": [
       "               dec  mag_u_lsst        ra\n",
       "0        -2.493820   22.854084  2.046021\n",
       "1        -2.444881   20.898900 -1.908089\n",
       "2        -2.475694   21.498884  0.765933\n",
       "3        -2.488729   23.390713 -1.918257\n",
       "4        -2.498992   23.324795 -1.932602\n",
       "5        -2.497787   24.671431 -1.932419\n",
       "6        -2.490655   24.665397 -1.927898\n",
       "7        -2.488241   25.212185 -1.937515\n",
       "8        -2.482193   24.560172 -1.927677\n",
       "9        -2.499003   25.115313 -1.929253\n",
       "10       -2.476938   23.858041 -1.951828\n",
       "11       -2.462078   22.082749 -1.973045\n",
       "12       -2.482090   21.456219 -2.096255\n",
       "13       -2.437523   20.411777 -2.332593\n",
       "14       -2.496593   23.207302 -0.756912\n",
       "15       -2.457124   24.303734 -1.995118\n",
       "16       -2.491405   24.942023 -0.842069\n",
       "17       -2.498049   20.877622 -1.932640\n",
       "18       -2.491701   22.228049 -1.918303\n",
       "19       -2.481812   23.752953 -0.997947\n",
       "20       -2.481117   23.208916 -0.999884\n",
       "21       -2.461853   23.715850 -1.709107\n",
       "22       -2.487581   22.790951 -0.790925\n",
       "23       -2.456740   20.073363 -1.587724\n",
       "24       -2.480438   20.251129 -0.988223\n",
       "25       -2.488541   24.649878 -0.355587\n",
       "26       -2.483016   20.889439 -1.705881\n",
       "27       -2.452222   24.304339 -2.020118\n",
       "28       -2.492776   24.745613 -2.468736\n",
       "29       -2.470114   24.413685 -0.577551\n",
       "...            ...         ...       ...\n",
       "10022466 -1.505230   23.708363  1.604309\n",
       "10022467 -1.598948   24.526492  1.630692\n",
       "10022468 -1.579007   25.764100  1.626447\n",
       "10022469 -1.540376   26.793652  1.601636\n",
       "10022470 -1.584512   26.725769  1.627605\n",
       "10022471 -1.571973   25.523858  1.606987\n",
       "10022472 -1.507770   27.130554  1.618234\n",
       "10022473 -1.507487   26.762693  1.614850\n",
       "10022474 -1.495504   27.154435  1.606103\n",
       "10022475 -1.576093   29.384039  1.607059\n",
       "10022476 -1.570581   28.352868  1.616817\n",
       "10022477 -1.569195   23.932302  1.610488\n",
       "10022478 -1.564947   25.948968  1.626098\n",
       "10022479 -1.571578   26.500836  1.620985\n",
       "10022480 -1.507467   27.789902  1.605278\n",
       "10022481 -1.590892   25.398300  1.611972\n",
       "10022482 -1.576060   27.269351  1.605078\n",
       "10022483 -1.574913   28.617125  1.611587\n",
       "10022484 -1.550281   28.301127  1.582588\n",
       "10022485 -1.543316   26.355287  1.556968\n",
       "10022486 -1.505116   26.211712  1.611507\n",
       "10022487 -1.526017   27.558156  1.596345\n",
       "10022488 -1.497223   27.292099  1.604915\n",
       "10022489 -1.500359   26.243309  1.602354\n",
       "10022490 -1.499977   25.497607  1.595257\n",
       "10022491 -1.578745   25.634294  1.614919\n",
       "10022492 -1.587095   24.767562  1.606726\n",
       "10022493 -1.575883   25.592934  1.626875\n",
       "10022494 -1.576460   23.059000  1.604661\n",
       "10022495 -1.561482   25.429044  1.608047\n",
       "\n",
       "[10022496 rows x 3 columns]"
      ]
     },
     "execution_count": 32,
     "metadata": {},
     "output_type": "execute_result"
    }
   ],
   "source": [
    "import pandas as pd\n",
    "pd.DataFrame(data)"
   ]
  },
  {
   "cell_type": "code",
   "execution_count": 33,
   "metadata": {
    "collapsed": false,
    "scrolled": true
   },
   "outputs": [
    {
     "data": {
      "text/html": [
       "&lt;Table length=10022496&gt;\n",
       "<table id=\"table139986118433928\" class=\"table-striped table-bordered table-condensed\">\n",
       "<thead><tr><th>mag_u_lsst</th><th>ra</th><th>dec</th></tr></thead>\n",
       "<thead><tr><th>float64</th><th>float32</th><th>float32</th></tr></thead>\n",
       "<tr><td>22.854083964</td><td>2.04602</td><td>-2.49382</td></tr>\n",
       "<tr><td>20.898899778</td><td>-1.90809</td><td>-2.44488</td></tr>\n",
       "<tr><td>21.4988841667</td><td>0.765933</td><td>-2.47569</td></tr>\n",
       "<tr><td>23.3907129004</td><td>-1.91826</td><td>-2.48873</td></tr>\n",
       "<tr><td>23.3247952146</td><td>-1.9326</td><td>-2.49899</td></tr>\n",
       "<tr><td>24.6714314075</td><td>-1.93242</td><td>-2.49779</td></tr>\n",
       "<tr><td>24.6653968004</td><td>-1.9279</td><td>-2.49066</td></tr>\n",
       "<tr><td>25.2121852079</td><td>-1.93752</td><td>-2.48824</td></tr>\n",
       "<tr><td>24.5601718799</td><td>-1.92768</td><td>-2.48219</td></tr>\n",
       "<tr><td>25.1153127079</td><td>-1.92925</td><td>-2.499</td></tr>\n",
       "<tr><td>...</td><td>...</td><td>...</td></tr>\n",
       "<tr><td>26.2117123651</td><td>1.61151</td><td>-1.50512</td></tr>\n",
       "<tr><td>27.5581560531</td><td>1.59635</td><td>-1.52602</td></tr>\n",
       "<tr><td>27.2920994915</td><td>1.60491</td><td>-1.49722</td></tr>\n",
       "<tr><td>26.2433088084</td><td>1.60235</td><td>-1.50036</td></tr>\n",
       "<tr><td>25.4976073237</td><td>1.59526</td><td>-1.49998</td></tr>\n",
       "<tr><td>25.6342943852</td><td>1.61492</td><td>-1.57875</td></tr>\n",
       "<tr><td>24.7675616997</td><td>1.60673</td><td>-1.58709</td></tr>\n",
       "<tr><td>25.5929341432</td><td>1.62687</td><td>-1.57588</td></tr>\n",
       "<tr><td>23.0589998787</td><td>1.60466</td><td>-1.57646</td></tr>\n",
       "<tr><td>25.4290436948</td><td>1.60805</td><td>-1.56148</td></tr>\n",
       "</table>"
      ],
      "text/plain": [
       "<Table length=10022496>\n",
       "  mag_u_lsst     ra      dec   \n",
       "   float64    float32  float32 \n",
       "------------- -------- --------\n",
       " 22.854083964  2.04602 -2.49382\n",
       " 20.898899778 -1.90809 -2.44488\n",
       "21.4988841667 0.765933 -2.47569\n",
       "23.3907129004 -1.91826 -2.48873\n",
       "23.3247952146  -1.9326 -2.49899\n",
       "24.6714314075 -1.93242 -2.49779\n",
       "24.6653968004  -1.9279 -2.49066\n",
       "25.2121852079 -1.93752 -2.48824\n",
       "24.5601718799 -1.92768 -2.48219\n",
       "25.1153127079 -1.92925   -2.499\n",
       "          ...      ...      ...\n",
       "26.2117123651  1.61151 -1.50512\n",
       "27.5581560531  1.59635 -1.52602\n",
       "27.2920994915  1.60491 -1.49722\n",
       "26.2433088084  1.60235 -1.50036\n",
       "25.4976073237  1.59526 -1.49998\n",
       "25.6342943852  1.61492 -1.57875\n",
       "24.7675616997  1.60673 -1.58709\n",
       "25.5929341432  1.62687 -1.57588\n",
       "23.0589998787  1.60466 -1.57646\n",
       "25.4290436948  1.60805 -1.56148"
      ]
     },
     "execution_count": 33,
     "metadata": {},
     "output_type": "execute_result"
    }
   ],
   "source": [
    "from astropy.table import Table\n",
    "Table(data)"
   ]
  },
  {
   "cell_type": "markdown",
   "metadata": {},
   "source": [
    "#### tip 2\n",
    "\n",
    "Sometimes you can allow slightly different quantiies (for example, lsst u band and sdss u band) when comparing different catalogs. In this case, you can use `first_available()` to get the first available of the given catalog."
   ]
  },
  {
   "cell_type": "code",
   "execution_count": 41,
   "metadata": {
    "collapsed": false
   },
   "outputs": [
    {
     "data": {
      "text/plain": [
       "'mag_u_sdss'"
      ]
     },
     "execution_count": 41,
     "metadata": {},
     "output_type": "execute_result"
    }
   ],
   "source": [
    "gc.first_available('mag_u_des', 'mag_u_sdss', 'mag_u_lsst')"
   ]
  },
  {
   "cell_type": "markdown",
   "metadata": {},
   "source": [
    "### Here's a full example"
   ]
  },
  {
   "cell_type": "code",
   "execution_count": 45,
   "metadata": {
    "collapsed": true
   },
   "outputs": [],
   "source": [
    "import numpy as np\n",
    "from astropy.table import Table\n",
    "import matplotlib.pyplot as plt\n",
    "%matplotlib inline"
   ]
  },
  {
   "cell_type": "code",
   "execution_count": 50,
   "metadata": {
    "collapsed": true
   },
   "outputs": [],
   "source": [
    "gc_proto_dc2 = GCRCatalogs.load_catalog('proto-dc2_v2.0')\n",
    "gc_buzzard = GCRCatalogs.load_catalog('buzzard_v1.6_test') # using _test here because full buzzard is very big!\n",
    "\n",
    "gc_all = {'proto-dc2': gc_proto_dc2, 'buzzard': gc_buzzard}"
   ]
  },
  {
   "cell_type": "code",
   "execution_count": 54,
   "metadata": {
    "collapsed": false
   },
   "outputs": [
    {
     "name": "stdout",
     "output_type": "stream",
     "text": [
      "proto-dc2: mag_g_lsst, mag_r_lsst, redshift_true\n",
      "buzzard: mag_g_des, mag_r_des, redshift_true\n"
     ]
    },
    {
     "data": {
      "image/png": "[encoded data removed]",
      "text/plain": [
       "<matplotlib.figure.Figure at 0x7f50f4830a58>"
      ]
     },
     "metadata": {
      "image/png": {
       "height": 442,
       "width": 978
      }
     },
     "output_type": "display_data"
    }
   ],
   "source": [
    "fig, ax = plt.subplots(ncols=2, figsize=(12,5), dpi=100)\n",
    "\n",
    "for label, gc_this in gc_all.items():\n",
    "    mag_g = gc_this.first_available('mag_g_lsst', 'mag_g_sdss', 'mag_g_des')\n",
    "    mag_r = gc_this.first_available('mag_r_lsst', 'mag_r_sdss', 'mag_r_des')\n",
    "    redshift = gc_this.first_available('redshift_true', 'redshift')\n",
    "    quantities_needed = [mag_g, mag_r, redshift]\n",
    "    \n",
    "    print('{}: {}'.format(label, ', '.join(quantities_needed)))\n",
    "    \n",
    "    data = Table(gc_this.get_quantities(quantities_needed, \n",
    "                                        filters=[(lambda z: (z > 0.1) & (z < 0.3), redshift)]))\n",
    "    \n",
    "    data = data[np.isfinite(data[mag_g]) & np.isfinite(data[mag_r])]\n",
    "    data = data[data[mag_r] < 22.0]\n",
    "    \n",
    "    ax[0].hist(data[redshift], 20, normed=True, alpha=0.6, label=label);\n",
    "    ax[1].hist(data[mag_g] - data[mag_r], 20, normed=True, alpha=0.6);\n",
    "\n",
    "ax[0].legend(frameon=False);\n",
    "ax[0].set_xlabel('$z$');\n",
    "ax[1].set_xlabel('$g-r$');"
   ]
  },
  {
   "cell_type": "code",
   "execution_count": null,
   "metadata": {
    "collapsed": true
   },
   "outputs": [],
   "source": []
  }
 ],
 "metadata": {
  "kernelspec": {
   "display_name": "Python 3",
   "language": "python",
   "name": "python3"
  },
  "language_info": {
   "codemirror_mode": {
    "name": "ipython",
    "version": 3
   },
   "file_extension": ".py",
   "mimetype": "text/x-python",
   "name": "python",
   "nbconvert_exporter": "python",
   "pygments_lexer": "ipython3",
   "version": "3.6.0"
  }
 },
 "nbformat": 4,
 "nbformat_minor": 2
}
