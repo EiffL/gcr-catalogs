{
 "cells": [
  {
   "cell_type": "markdown",
   "metadata": {},
   "source": [
    "# How to use GCRCatalogs\n",
    "\n",
    "by Yao-Yuan Mao\n",
    "\n",
    "Links to GitHub code repos: [GCRCatalogs](https://github.com/LSSTDESC/gcr-catalogs) and [GCR](https://github.com/yymao/generic-catalog-reader)\n",
    "\n",
    "**Note: You should be running this notebook at https://jupyter-dev.nersc.gov **"
   ]
  },
  {
   "cell_type": "code",
   "execution_count": 1,
   "metadata": {},
   "outputs": [],
   "source": [
    "## adding DESCQA env\n",
    "\n",
    "import sys\n",
    "\n",
    "sys.path.insert(0, '/global/common/software/lsst/common/miniconda/py3-4.2.12/lib/python3.6/site-packages')\n",
    "\n",
    "## Note: if you use Python 2, comment the line above and uncomment the line below\n",
    "#sys.path.insert(0, '/global/common/cori/contrib/lsst/apps/anaconda/py2-envs/DESCQA/lib/python2.7/site-packages')\n",
    "\n",
    "## Note: if you clone the gcr-catalogs repo and are running this under the `examples` folder,\n",
    "## you can also add your version of GCRCatalogs:\n",
    "# sys.path.insert(0, '..')\n",
    "\n",
    "## The following lines are to check if you're in the lsst group\n",
    "import subprocess\n",
    "assert u'lsst' in subprocess.check_output(['groups']).decode().split(), 'You need to be in the `lsst` group for this notebook to work'"
   ]
  },
  {
   "cell_type": "markdown",
   "metadata": {},
   "source": [
    "## The basics:\n",
    "\n",
    "- `get_available_catalogs()` lists available catlaogs; returns `dict`.\n",
    "- `load_catalog()` loads the catalog you want; returns an instance of `GCR.BaseGenericCatalog`"
   ]
  },
  {
   "cell_type": "code",
   "execution_count": 2,
   "metadata": {},
   "outputs": [
    {
     "name": "stdout",
     "output_type": "stream",
     "text": [
      "GCRCatalogs = 0.6.8 | GCR = 0.6.1\n"
     ]
    }
   ],
   "source": [
    "import GCRCatalogs\n",
    "\n",
    "## check version\n",
    "print('GCRCatalogs =', GCRCatalogs.__version__, '|' ,'GCR =', GCRCatalogs.GCR.__version__)"
   ]
  },
  {
   "cell_type": "code",
   "execution_count": 3,
   "metadata": {},
   "outputs": [
    {
     "name": "stdout",
     "output_type": "stream",
     "text": [
      "buzzard\n",
      "buzzard_high-res\n",
      "buzzard_test\n",
      "dc1\n",
      "protoDC2\n"
     ]
    }
   ],
   "source": [
    "## list all find available catlaogs, sorted by their name\n",
    "\n",
    "print('\\n'.join(sorted(GCRCatalogs.get_available_catalogs())))"
   ]
  },
  {
   "cell_type": "code",
   "execution_count": 4,
   "metadata": {},
   "outputs": [],
   "source": [
    "## load 'protoDC2' catalog\n",
    "\n",
    "gc = GCRCatalogs.load_catalog('protoDC2')"
   ]
  },
  {
   "cell_type": "markdown",
   "metadata": {},
   "source": [
    "## GCR interface\n",
    "\n",
    "See also the [full GCR API Documentation](https://yymao.github.io/generic-catalog-reader/index.html)."
   ]
  },
  {
   "cell_type": "markdown",
   "metadata": {
    "collapsed": true
   },
   "source": [
    "### quantities\n",
    "\n",
    "- `get_quantities()` loads the quantities you need; takes a `list` and returns `dict`.\n",
    "- `has_quantity()` and `has_quantities()` can check if the quantities you need exist; both return `bool`.\n",
    "- `list_all_quantities()` lists all available catlaogs; returns `list`."
   ]
  },
  {
   "cell_type": "code",
   "execution_count": 5,
   "metadata": {},
   "outputs": [
    {
     "data": {
      "text/plain": [
       "{'dec': array([-2.49390244, -2.4465878 , -2.47334218, ..., -1.57574439,\n",
       "        -1.57624245, -1.56156218], dtype=float32),\n",
       " 'mag_u_lsst': array([ 22.85408396,  20.89889978,  21.49888417, ...,  25.59293414,\n",
       "         23.05899988,  25.42904369]),\n",
       " 'ra': array([ 2.04596066, -1.91125453,  0.76751482, ...,  1.62644827,\n",
       "         1.60419965,  1.60762465], dtype=float32)}"
      ]
     },
     "execution_count": 5,
     "metadata": {},
     "output_type": "execute_result"
    }
   ],
   "source": [
    "gc.get_quantities(['mag_u_lsst', 'ra', 'dec'])"
   ]
  },
  {
   "cell_type": "code",
   "execution_count": 6,
   "metadata": {},
   "outputs": [
    {
     "data": {
      "text/plain": [
       "True"
      ]
     },
     "execution_count": 6,
     "metadata": {},
     "output_type": "execute_result"
    }
   ],
   "source": [
    "gc.has_quantity('mag_u_lsst')"
   ]
  },
  {
   "cell_type": "code",
   "execution_count": 7,
   "metadata": {},
   "outputs": [
    {
     "data": {
      "text/plain": [
       "True"
      ]
     },
     "execution_count": 7,
     "metadata": {},
     "output_type": "execute_result"
    }
   ],
   "source": [
    "gc.has_quantities(['mag_u_lsst', 'ra', 'dec'])"
   ]
  },
  {
   "cell_type": "code",
   "execution_count": 8,
   "metadata": {},
   "outputs": [
    {
     "data": {
      "text/plain": [
       "False"
      ]
     },
     "execution_count": 8,
     "metadata": {},
     "output_type": "execute_result"
    }
   ],
   "source": [
    "## Only returns `True` if *all* quantities exist\n",
    "gc.has_quantities(['mag_u_lsst', 'ra', 'dec', 'quantitiy_that_does_not_exist'])"
   ]
  },
  {
   "cell_type": "code",
   "execution_count": 9,
   "metadata": {},
   "outputs": [
    {
     "name": "stdout",
     "output_type": "stream",
     "text": [
      "Mag_true_i_sdss_z0, Mag_true_g_lsst_z0, Mag_true_u_sdss_z0, Mag_true_r_lsst_z0, stellar_mass, position_x, size_bulge_true, galaxy_id, mag_z_lsst, Mag_true_Y_lsst_z0, halo_id, ellipticity_1, convergence, Mag_true_z_lsst_z0, size_disk_true, velocity_x, mag_r_lsst, dec_true, mag_Y_lsst, ellipticity_2, bulge_sersic_index, mag_i_sdss, magnification, is_central, mag_g_lsst, redshift_true, dec, halo_mass, Mag_true_r_sdss_z0, velocity_z, mag_z_sdss, Mag_true_u_lsst_z0, ra_true, mag_u_sdss, shear_2, position_y, Mag_true_z_sdss_z0, mag_r_sdss, velocity_y, disk_sersic_index, redshift, mag_i_lsst, Mag_true_i_lsst_z0, Mag_true_g_sdss_z0, position_z, mag_g_sdss, mag_u_lsst, ra, shear_1\n"
     ]
    }
   ],
   "source": [
    "print(', '.join(gc.list_all_quantities()))"
   ]
  },
  {
   "cell_type": "markdown",
   "metadata": {},
   "source": [
    "### accessing native quantities\n",
    "\n",
    "Native quantities are quantities that have not yet be homogenized (to common labels/units).\n",
    "However, you can still access them as long as you know what you are doing. "
   ]
  },
  {
   "cell_type": "code",
   "execution_count": 10,
   "metadata": {},
   "outputs": [
    {
     "name": "stdout",
     "output_type": "stream",
     "text": [
      "LSST_filters/diskLuminositiesStellar:LSST_g:observed\n",
      "LSST_filters/diskLuminositiesStellar:LSST_g:observed:dustAtlas\n",
      "LSST_filters/diskLuminositiesStellar:LSST_g:rest\n",
      "LSST_filters/diskLuminositiesStellar:LSST_g:rest:dustAtlas\n",
      "LSST_filters/diskLuminositiesStellar:LSST_i:observed\n"
     ]
    }
   ],
   "source": [
    "## print out the first 5 native quantities\n",
    "\n",
    "print('\\n'.join(sorted(gc.list_all_native_quantities())[:5]))"
   ]
  },
  {
   "cell_type": "code",
   "execution_count": 11,
   "metadata": {},
   "outputs": [
    {
     "data": {
      "text/plain": [
       "{'emissionLines/diskLineLuminosity:balmerAlpha6563:rest': array([  2.95460152e+04,   1.36217248e+07,   7.35076121e+06, ...,\n",
       "          3.28912552e+07,   3.07296106e+08,   3.50137854e+07]),\n",
       " 'emissionLines/diskLineLuminosity:balmerAlpha6563:rest:contam_nitrogenII6584': array([  2.98620241e+04,   1.39448999e+07,   7.57534427e+06, ...,\n",
       "          3.40582469e+07,   3.19260779e+08,   3.63504006e+07])}"
      ]
     },
     "execution_count": 11,
     "metadata": {},
     "output_type": "execute_result"
    }
   ],
   "source": [
    "gc.get_quantities(['emissionLines/diskLineLuminosity:balmerAlpha6563:rest',\n",
    "                   'emissionLines/diskLineLuminosity:balmerAlpha6563:rest:contam_nitrogenII6584'])"
   ]
  },
  {
   "cell_type": "markdown",
   "metadata": {},
   "source": [
    "You can also rename the native quantities by using `add_quantity_modifier()`. For example:"
   ]
  },
  {
   "cell_type": "code",
   "execution_count": 12,
   "metadata": {},
   "outputs": [
    {
     "data": {
      "text/plain": [
       "{'balmer_alpha_6563': array([  2.95460152e+04,   1.36217248e+07,   7.35076121e+06, ...,\n",
       "          3.28912552e+07,   3.07296106e+08,   3.50137854e+07])}"
      ]
     },
     "execution_count": 12,
     "metadata": {},
     "output_type": "execute_result"
    }
   ],
   "source": [
    "gc.add_quantity_modifier('balmer_alpha_6563', 'emissionLines/diskLineLuminosity:balmerAlpha6563:rest')\n",
    "gc.get_quantities(['balmer_alpha_6563'])"
   ]
  },
  {
   "cell_type": "markdown",
   "metadata": {},
   "source": [
    "To get all native quantities that match a regex"
   ]
  },
  {
   "cell_type": "code",
   "execution_count": 13,
   "metadata": {},
   "outputs": [],
   "source": [
    "import re\n",
    "\n",
    "data = gc.get_quantities([q for q in gc.list_all_native_quantities() if re.match('SEDs/totalLuminositiesStellar:SED_\\d+_\\d+:rest:dustAtlas', q)]) "
   ]
  },
  {
   "cell_type": "markdown",
   "metadata": {},
   "source": [
    "### more info about the catalog\n",
    "\n",
    "- `lightcone` is a `bool`\n",
    "- `cosmology` is a instance of `astropy.cosmology.FLRW`\n",
    "- `get_input_kwargs()` returns a `dict` (when no argument) from the orignal yaml config file. \n",
    "  If a argument if passed, it returns the corresponding value for key=argument"
   ]
  },
  {
   "cell_type": "code",
   "execution_count": 14,
   "metadata": {},
   "outputs": [
    {
     "data": {
      "text/plain": [
       "True"
      ]
     },
     "execution_count": 14,
     "metadata": {},
     "output_type": "execute_result"
    }
   ],
   "source": [
    "gc.lightcone"
   ]
  },
  {
   "cell_type": "code",
   "execution_count": 15,
   "metadata": {},
   "outputs": [
    {
     "data": {
      "text/plain": [
       "FlatLambdaCDM(H0=71 km / (Mpc s), Om0=0.265, Tcmb0=0 K, Neff=3.04, m_nu=None, Ob0=0.0448)"
      ]
     },
     "execution_count": 15,
     "metadata": {},
     "output_type": "execute_result"
    }
   ],
   "source": [
    "gc.cosmology"
   ]
  },
  {
   "cell_type": "code",
   "execution_count": 16,
   "metadata": {},
   "outputs": [
    {
     "name": "stdout",
     "output_type": "stream",
     "text": [
      "ProtoDC2 is a down-scaled version of the catalog to be generated for LSST-DESC DC2.\n",
      "For a description of the catalog and the methods, please see https://goo.gl/fXDQwP\n",
      "\n"
     ]
    }
   ],
   "source": [
    "print(gc.get_catalog_info('description'))"
   ]
  },
  {
   "cell_type": "code",
   "execution_count": 17,
   "metadata": {},
   "outputs": [
    {
     "name": "stdout",
     "output_type": "stream",
     "text": [
      "2.1.1\n"
     ]
    }
   ],
   "source": [
    "print(gc.get_catalog_info('version'))"
   ]
  },
  {
   "cell_type": "code",
   "execution_count": 18,
   "metadata": {},
   "outputs": [
    {
     "name": "stdout",
     "output_type": "stream",
     "text": [
      "{'subclass_name': 'alphaq.AlphaQGalaxyCatalog', 'filename': '/global/projecta/projectdirs/lsst/groups/CS/descqa/catalog/ANL_AlphaQ_v2.1.1.hdf5', 'lightcone': True, 'version': '2.1.1', 'creators': ['Eve Kovacs', 'Danila Korytov', 'Katrin Heitmann', 'Andrew Benson'], 'description': 'ProtoDC2 is a down-scaled version of the catalog to be generated for LSST-DESC DC2.\\nFor a description of the catalog and the methods, please see https://goo.gl/fXDQwP\\n'}\n"
     ]
    }
   ],
   "source": [
    "print(gc.get_catalog_info())"
   ]
  },
  {
   "cell_type": "code",
   "execution_count": 19,
   "metadata": {},
   "outputs": [
    {
     "name": "stdout",
     "output_type": "stream",
     "text": [
      "Mag_true_i_sdss_z0\n",
      "{'description': None, 'units': 'AB magnitude'}\n",
      "Mag_true_g_lsst_z0\n",
      "{'description': None, 'units': 'AB magnitude'}\n",
      "Mag_true_u_sdss_z0\n",
      "{'description': None, 'units': 'AB magnitude'}\n",
      "Mag_true_r_lsst_z0\n",
      "{'description': None, 'units': 'AB magnitude'}\n",
      "stellar_mass\n",
      "{'description': None, 'units': 'Msun'}\n",
      "position_x\n",
      "{'description': None, 'units': 'comoving Mpc/h'}\n",
      "size_bulge_true\n",
      "{'description': None, 'units': 'physical kpc'}\n",
      "galaxy_id\n",
      "{'description': None, 'units': 'id/index'}\n",
      "mag_z_lsst\n",
      "{'description': None, 'units': 'AB magnitude'}\n",
      "Mag_true_Y_lsst_z0\n",
      "{'description': None, 'units': 'AB magnitude'}\n",
      "halo_id\n",
      "{'description': None, 'units': 'id/index'}\n",
      "ellipticity_1\n",
      "{'description': None, 'units': 'unitless'}\n",
      "convergence\n",
      "{'description': None, 'units': 'unitless'}\n",
      "Mag_true_z_lsst_z0\n",
      "{'description': None, 'units': 'AB magnitude'}\n",
      "size_disk_true\n",
      "{'description': None, 'units': 'physical kpc'}\n",
      "velocity_x\n",
      "{'description': None, 'units': 'km/s'}\n",
      "mag_r_lsst\n",
      "{'description': None, 'units': 'AB magnitude'}\n",
      "dec_true\n",
      "{'description': None, 'units': 'degrees'}\n",
      "mag_Y_lsst\n",
      "{'description': None, 'units': 'AB magnitude'}\n",
      "ellipticity_2\n",
      "{'description': None, 'units': 'unitless'}\n",
      "bulge_sersic_index\n",
      "{'description': None, 'units': 'unitless'}\n",
      "mag_i_sdss\n",
      "{'description': None, 'units': 'AB magnitude'}\n",
      "balmer_alpha_6563\n",
      "{'description': None, 'units': 'AB luminosity (4.4659e13 W/Hz)'}\n",
      "magnification\n",
      "{'description': None, 'units': 'unitless'}\n",
      "is_central\n",
      "None\n",
      "mag_g_lsst\n",
      "{'description': None, 'units': 'AB magnitude'}\n",
      "redshift_true\n",
      "{'description': None, 'units': 'unitless'}\n",
      "dec\n",
      "{'description': None, 'units': 'degrees'}\n",
      "halo_mass\n",
      "{'description': None, 'units': 'Msun'}\n",
      "Mag_true_r_sdss_z0\n",
      "{'description': None, 'units': 'AB magnitude'}\n",
      "velocity_z\n",
      "{'description': None, 'units': 'km/s'}\n",
      "mag_z_sdss\n",
      "{'description': None, 'units': 'AB magnitude'}\n",
      "Mag_true_u_lsst_z0\n",
      "{'description': None, 'units': 'AB magnitude'}\n",
      "ra_true\n",
      "{'description': None, 'units': 'degrees'}\n",
      "mag_u_sdss\n",
      "{'description': None, 'units': 'AB magnitude'}\n",
      "shear_2\n",
      "{'description': None, 'units': 'unitless'}\n",
      "position_y\n",
      "{'description': None, 'units': 'comoving Mpc/h'}\n",
      "Mag_true_z_sdss_z0\n",
      "{'description': None, 'units': 'AB magnitude'}\n",
      "mag_r_sdss\n",
      "{'description': None, 'units': 'AB magnitude'}\n",
      "velocity_y\n",
      "{'description': None, 'units': 'km/s'}\n",
      "disk_sersic_index\n",
      "{'description': None, 'units': 'unitless'}\n",
      "redshift\n",
      "{'description': None, 'units': 'unitless'}\n",
      "mag_i_lsst\n",
      "{'description': None, 'units': 'AB magnitude'}\n",
      "Mag_true_i_lsst_z0\n",
      "{'description': None, 'units': 'AB magnitude'}\n",
      "Mag_true_g_sdss_z0\n",
      "{'description': None, 'units': 'AB magnitude'}\n",
      "position_z\n",
      "{'description': None, 'units': 'comoving Mpc/h'}\n",
      "mag_g_sdss\n",
      "{'description': None, 'units': 'AB magnitude'}\n",
      "mag_u_lsst\n",
      "{'description': None, 'units': 'AB magnitude'}\n",
      "ra\n",
      "{'description': None, 'units': 'degrees'}\n",
      "shear_1\n",
      "{'description': None, 'units': 'unitless'}\n"
     ]
    },
    {
     "name": "stderr",
     "output_type": "stream",
     "text": [
      "/global/common/software/lsst/common/miniconda/py3-4.2.12/lib/python3.6/site-packages/GCRCatalogs/alphaq.py:145: UserWarning: This value is composed of a function on native quantities. So we have no idea what the units are\n",
      "  warnings.warn('This value is composed of a function on native quantities. So we have no idea what the units are')\n"
     ]
    }
   ],
   "source": [
    "for q in gc.list_all_quantities():\n",
    "    print(q)\n",
    "    print(gc.get_quantity_info(q))"
   ]
  },
  {
   "cell_type": "markdown",
   "metadata": {},
   "source": [
    "### more tips on using the quantities\n",
    "\n",
    "#### tip 1\n",
    "`get_quantities()` returns a dictionary, which you can easily turn into a `astropy.table.Table` or `pandas.DataFrame`"
   ]
  },
  {
   "cell_type": "code",
   "execution_count": 20,
   "metadata": {},
   "outputs": [],
   "source": [
    "data = gc.get_quantities(['mag_u_lsst', 'ra', 'dec'])"
   ]
  },
  {
   "cell_type": "code",
   "execution_count": 21,
   "metadata": {
    "scrolled": true
   },
   "outputs": [
    {
     "data": {
      "text/html": [
       "<div>\n",
       "<style>\n",
       "    .dataframe thead tr:only-child th {\n",
       "        text-align: right;\n",
       "    }\n",
       "\n",
       "    .dataframe thead th {\n",
       "        text-align: left;\n",
       "    }\n",
       "\n",
       "    .dataframe tbody tr th {\n",
       "        vertical-align: top;\n",
       "    }\n",
       "</style>\n",
       "<table border=\"1\" class=\"dataframe\">\n",
       "  <thead>\n",
       "    <tr style=\"text-align: right;\">\n",
       "      <th></th>\n",
       "      <th>dec</th>\n",
       "      <th>mag_u_lsst</th>\n",
       "      <th>ra</th>\n",
       "    </tr>\n",
       "  </thead>\n",
       "  <tbody>\n",
       "    <tr>\n",
       "      <th>0</th>\n",
       "      <td>-2.493902</td>\n",
       "      <td>22.854084</td>\n",
       "      <td>2.045961</td>\n",
       "    </tr>\n",
       "    <tr>\n",
       "      <th>1</th>\n",
       "      <td>-2.446588</td>\n",
       "      <td>20.898900</td>\n",
       "      <td>-1.911255</td>\n",
       "    </tr>\n",
       "    <tr>\n",
       "      <th>2</th>\n",
       "      <td>-2.473342</td>\n",
       "      <td>21.498884</td>\n",
       "      <td>0.767515</td>\n",
       "    </tr>\n",
       "    <tr>\n",
       "      <th>3</th>\n",
       "      <td>-2.490980</td>\n",
       "      <td>23.390713</td>\n",
       "      <td>-1.924229</td>\n",
       "    </tr>\n",
       "    <tr>\n",
       "      <th>4</th>\n",
       "      <td>-2.498992</td>\n",
       "      <td>23.324795</td>\n",
       "      <td>-1.932602</td>\n",
       "    </tr>\n",
       "    <tr>\n",
       "      <th>5</th>\n",
       "      <td>-2.497787</td>\n",
       "      <td>24.671431</td>\n",
       "      <td>-1.932419</td>\n",
       "    </tr>\n",
       "    <tr>\n",
       "      <th>6</th>\n",
       "      <td>-2.492819</td>\n",
       "      <td>24.665397</td>\n",
       "      <td>-1.933936</td>\n",
       "    </tr>\n",
       "    <tr>\n",
       "      <th>7</th>\n",
       "      <td>-2.490286</td>\n",
       "      <td>25.212185</td>\n",
       "      <td>-1.943685</td>\n",
       "    </tr>\n",
       "    <tr>\n",
       "      <th>8</th>\n",
       "      <td>-2.484439</td>\n",
       "      <td>24.560172</td>\n",
       "      <td>-1.933810</td>\n",
       "    </tr>\n",
       "    <tr>\n",
       "      <th>9</th>\n",
       "      <td>-2.499003</td>\n",
       "      <td>25.115313</td>\n",
       "      <td>-1.929253</td>\n",
       "    </tr>\n",
       "    <tr>\n",
       "      <th>10</th>\n",
       "      <td>-2.478934</td>\n",
       "      <td>23.858041</td>\n",
       "      <td>-1.958215</td>\n",
       "    </tr>\n",
       "    <tr>\n",
       "      <th>11</th>\n",
       "      <td>-2.464998</td>\n",
       "      <td>22.082749</td>\n",
       "      <td>-1.978467</td>\n",
       "    </tr>\n",
       "    <tr>\n",
       "      <th>12</th>\n",
       "      <td>-2.484675</td>\n",
       "      <td>21.456219</td>\n",
       "      <td>-2.099496</td>\n",
       "    </tr>\n",
       "    <tr>\n",
       "      <th>13</th>\n",
       "      <td>-2.440670</td>\n",
       "      <td>20.411777</td>\n",
       "      <td>-2.330351</td>\n",
       "    </tr>\n",
       "    <tr>\n",
       "      <th>14</th>\n",
       "      <td>-2.496593</td>\n",
       "      <td>23.207302</td>\n",
       "      <td>-0.756912</td>\n",
       "    </tr>\n",
       "    <tr>\n",
       "      <th>15</th>\n",
       "      <td>-2.459133</td>\n",
       "      <td>24.303734</td>\n",
       "      <td>-2.000318</td>\n",
       "    </tr>\n",
       "    <tr>\n",
       "      <th>16</th>\n",
       "      <td>-2.489252</td>\n",
       "      <td>24.942023</td>\n",
       "      <td>-0.842948</td>\n",
       "    </tr>\n",
       "    <tr>\n",
       "      <th>17</th>\n",
       "      <td>-2.498049</td>\n",
       "      <td>20.877622</td>\n",
       "      <td>-1.932640</td>\n",
       "    </tr>\n",
       "    <tr>\n",
       "      <th>18</th>\n",
       "      <td>-2.493914</td>\n",
       "      <td>22.228049</td>\n",
       "      <td>-1.924268</td>\n",
       "    </tr>\n",
       "    <tr>\n",
       "      <th>19</th>\n",
       "      <td>-2.480436</td>\n",
       "      <td>23.752953</td>\n",
       "      <td>-1.001719</td>\n",
       "    </tr>\n",
       "    <tr>\n",
       "      <th>20</th>\n",
       "      <td>-2.479755</td>\n",
       "      <td>23.208916</td>\n",
       "      <td>-1.003658</td>\n",
       "    </tr>\n",
       "    <tr>\n",
       "      <th>21</th>\n",
       "      <td>-2.464710</td>\n",
       "      <td>23.715850</td>\n",
       "      <td>-1.714146</td>\n",
       "    </tr>\n",
       "    <tr>\n",
       "      <th>22</th>\n",
       "      <td>-2.485816</td>\n",
       "      <td>22.790951</td>\n",
       "      <td>-0.791366</td>\n",
       "    </tr>\n",
       "    <tr>\n",
       "      <th>23</th>\n",
       "      <td>-2.459293</td>\n",
       "      <td>20.073363</td>\n",
       "      <td>-1.593005</td>\n",
       "    </tr>\n",
       "    <tr>\n",
       "      <th>24</th>\n",
       "      <td>-2.479002</td>\n",
       "      <td>20.251129</td>\n",
       "      <td>-0.991936</td>\n",
       "    </tr>\n",
       "    <tr>\n",
       "      <th>25</th>\n",
       "      <td>-2.485983</td>\n",
       "      <td>24.649878</td>\n",
       "      <td>-0.353874</td>\n",
       "    </tr>\n",
       "    <tr>\n",
       "      <th>26</th>\n",
       "      <td>-2.485561</td>\n",
       "      <td>20.889439</td>\n",
       "      <td>-1.710813</td>\n",
       "    </tr>\n",
       "    <tr>\n",
       "      <th>27</th>\n",
       "      <td>-2.454402</td>\n",
       "      <td>24.304339</td>\n",
       "      <td>-2.023513</td>\n",
       "    </tr>\n",
       "    <tr>\n",
       "      <th>28</th>\n",
       "      <td>-2.495926</td>\n",
       "      <td>24.745613</td>\n",
       "      <td>-2.464516</td>\n",
       "    </tr>\n",
       "    <tr>\n",
       "      <th>29</th>\n",
       "      <td>-2.469320</td>\n",
       "      <td>24.413685</td>\n",
       "      <td>-0.579397</td>\n",
       "    </tr>\n",
       "    <tr>\n",
       "      <th>...</th>\n",
       "      <td>...</td>\n",
       "      <td>...</td>\n",
       "      <td>...</td>\n",
       "    </tr>\n",
       "    <tr>\n",
       "      <th>10022466</th>\n",
       "      <td>-1.505049</td>\n",
       "      <td>23.708363</td>\n",
       "      <td>1.604151</td>\n",
       "    </tr>\n",
       "    <tr>\n",
       "      <th>10022467</th>\n",
       "      <td>-1.598868</td>\n",
       "      <td>24.526492</td>\n",
       "      <td>1.630475</td>\n",
       "    </tr>\n",
       "    <tr>\n",
       "      <th>10022468</th>\n",
       "      <td>-1.578866</td>\n",
       "      <td>25.764100</td>\n",
       "      <td>1.626044</td>\n",
       "    </tr>\n",
       "    <tr>\n",
       "      <th>10022469</th>\n",
       "      <td>-1.540761</td>\n",
       "      <td>26.793652</td>\n",
       "      <td>1.601780</td>\n",
       "    </tr>\n",
       "    <tr>\n",
       "      <th>10022470</th>\n",
       "      <td>-1.584410</td>\n",
       "      <td>26.725769</td>\n",
       "      <td>1.627218</td>\n",
       "    </tr>\n",
       "    <tr>\n",
       "      <th>10022471</th>\n",
       "      <td>-1.571832</td>\n",
       "      <td>25.523858</td>\n",
       "      <td>1.606527</td>\n",
       "    </tr>\n",
       "    <tr>\n",
       "      <th>10022472</th>\n",
       "      <td>-1.507587</td>\n",
       "      <td>27.130554</td>\n",
       "      <td>1.618084</td>\n",
       "    </tr>\n",
       "    <tr>\n",
       "      <th>10022473</th>\n",
       "      <td>-1.507306</td>\n",
       "      <td>26.762693</td>\n",
       "      <td>1.614714</td>\n",
       "    </tr>\n",
       "    <tr>\n",
       "      <th>10022474</th>\n",
       "      <td>-1.495215</td>\n",
       "      <td>27.154435</td>\n",
       "      <td>1.606030</td>\n",
       "    </tr>\n",
       "    <tr>\n",
       "      <th>10022475</th>\n",
       "      <td>-1.575892</td>\n",
       "      <td>29.384039</td>\n",
       "      <td>1.606580</td>\n",
       "    </tr>\n",
       "    <tr>\n",
       "      <th>10022476</th>\n",
       "      <td>-1.570465</td>\n",
       "      <td>28.352868</td>\n",
       "      <td>1.616315</td>\n",
       "    </tr>\n",
       "    <tr>\n",
       "      <th>10022477</th>\n",
       "      <td>-1.569105</td>\n",
       "      <td>23.932302</td>\n",
       "      <td>1.610006</td>\n",
       "    </tr>\n",
       "    <tr>\n",
       "      <th>10022478</th>\n",
       "      <td>-1.564912</td>\n",
       "      <td>25.948968</td>\n",
       "      <td>1.625677</td>\n",
       "    </tr>\n",
       "    <tr>\n",
       "      <th>10022479</th>\n",
       "      <td>-1.571463</td>\n",
       "      <td>26.500836</td>\n",
       "      <td>1.620499</td>\n",
       "    </tr>\n",
       "    <tr>\n",
       "      <th>10022480</th>\n",
       "      <td>-1.507302</td>\n",
       "      <td>27.789902</td>\n",
       "      <td>1.605122</td>\n",
       "    </tr>\n",
       "    <tr>\n",
       "      <th>10022481</th>\n",
       "      <td>-1.590637</td>\n",
       "      <td>25.398300</td>\n",
       "      <td>1.611574</td>\n",
       "    </tr>\n",
       "    <tr>\n",
       "      <th>10022482</th>\n",
       "      <td>-1.575847</td>\n",
       "      <td>27.269351</td>\n",
       "      <td>1.604613</td>\n",
       "    </tr>\n",
       "    <tr>\n",
       "      <th>10022483</th>\n",
       "      <td>-1.574750</td>\n",
       "      <td>28.617125</td>\n",
       "      <td>1.611056</td>\n",
       "    </tr>\n",
       "    <tr>\n",
       "      <th>10022484</th>\n",
       "      <td>-1.550810</td>\n",
       "      <td>28.301127</td>\n",
       "      <td>1.582789</td>\n",
       "    </tr>\n",
       "    <tr>\n",
       "      <th>10022485</th>\n",
       "      <td>-1.543169</td>\n",
       "      <td>26.355287</td>\n",
       "      <td>1.556661</td>\n",
       "    </tr>\n",
       "    <tr>\n",
       "      <th>10022486</th>\n",
       "      <td>-1.504912</td>\n",
       "      <td>26.211712</td>\n",
       "      <td>1.611375</td>\n",
       "    </tr>\n",
       "    <tr>\n",
       "      <th>10022487</th>\n",
       "      <td>-1.525852</td>\n",
       "      <td>27.558156</td>\n",
       "      <td>1.596373</td>\n",
       "    </tr>\n",
       "    <tr>\n",
       "      <th>10022488</th>\n",
       "      <td>-1.496973</td>\n",
       "      <td>27.292099</td>\n",
       "      <td>1.604815</td>\n",
       "    </tr>\n",
       "    <tr>\n",
       "      <th>10022489</th>\n",
       "      <td>-1.500150</td>\n",
       "      <td>26.243309</td>\n",
       "      <td>1.602228</td>\n",
       "    </tr>\n",
       "    <tr>\n",
       "      <th>10022490</th>\n",
       "      <td>-1.499838</td>\n",
       "      <td>25.497607</td>\n",
       "      <td>1.595045</td>\n",
       "    </tr>\n",
       "    <tr>\n",
       "      <th>10022491</th>\n",
       "      <td>-1.578556</td>\n",
       "      <td>25.634294</td>\n",
       "      <td>1.614391</td>\n",
       "    </tr>\n",
       "    <tr>\n",
       "      <th>10022492</th>\n",
       "      <td>-1.586818</td>\n",
       "      <td>24.767562</td>\n",
       "      <td>1.606329</td>\n",
       "    </tr>\n",
       "    <tr>\n",
       "      <th>10022493</th>\n",
       "      <td>-1.575744</td>\n",
       "      <td>25.592934</td>\n",
       "      <td>1.626448</td>\n",
       "    </tr>\n",
       "    <tr>\n",
       "      <th>10022494</th>\n",
       "      <td>-1.576242</td>\n",
       "      <td>23.059000</td>\n",
       "      <td>1.604200</td>\n",
       "    </tr>\n",
       "    <tr>\n",
       "      <th>10022495</th>\n",
       "      <td>-1.561562</td>\n",
       "      <td>25.429044</td>\n",
       "      <td>1.607625</td>\n",
       "    </tr>\n",
       "  </tbody>\n",
       "</table>\n",
       "<p>10022496 rows × 3 columns</p>\n",
       "</div>"
      ],
      "text/plain": [
       "               dec  mag_u_lsst        ra\n",
       "0        -2.493902   22.854084  2.045961\n",
       "1        -2.446588   20.898900 -1.911255\n",
       "2        -2.473342   21.498884  0.767515\n",
       "3        -2.490980   23.390713 -1.924229\n",
       "4        -2.498992   23.324795 -1.932602\n",
       "5        -2.497787   24.671431 -1.932419\n",
       "6        -2.492819   24.665397 -1.933936\n",
       "7        -2.490286   25.212185 -1.943685\n",
       "8        -2.484439   24.560172 -1.933810\n",
       "9        -2.499003   25.115313 -1.929253\n",
       "10       -2.478934   23.858041 -1.958215\n",
       "11       -2.464998   22.082749 -1.978467\n",
       "12       -2.484675   21.456219 -2.099496\n",
       "13       -2.440670   20.411777 -2.330351\n",
       "14       -2.496593   23.207302 -0.756912\n",
       "15       -2.459133   24.303734 -2.000318\n",
       "16       -2.489252   24.942023 -0.842948\n",
       "17       -2.498049   20.877622 -1.932640\n",
       "18       -2.493914   22.228049 -1.924268\n",
       "19       -2.480436   23.752953 -1.001719\n",
       "20       -2.479755   23.208916 -1.003658\n",
       "21       -2.464710   23.715850 -1.714146\n",
       "22       -2.485816   22.790951 -0.791366\n",
       "23       -2.459293   20.073363 -1.593005\n",
       "24       -2.479002   20.251129 -0.991936\n",
       "25       -2.485983   24.649878 -0.353874\n",
       "26       -2.485561   20.889439 -1.710813\n",
       "27       -2.454402   24.304339 -2.023513\n",
       "28       -2.495926   24.745613 -2.464516\n",
       "29       -2.469320   24.413685 -0.579397\n",
       "...            ...         ...       ...\n",
       "10022466 -1.505049   23.708363  1.604151\n",
       "10022467 -1.598868   24.526492  1.630475\n",
       "10022468 -1.578866   25.764100  1.626044\n",
       "10022469 -1.540761   26.793652  1.601780\n",
       "10022470 -1.584410   26.725769  1.627218\n",
       "10022471 -1.571832   25.523858  1.606527\n",
       "10022472 -1.507587   27.130554  1.618084\n",
       "10022473 -1.507306   26.762693  1.614714\n",
       "10022474 -1.495215   27.154435  1.606030\n",
       "10022475 -1.575892   29.384039  1.606580\n",
       "10022476 -1.570465   28.352868  1.616315\n",
       "10022477 -1.569105   23.932302  1.610006\n",
       "10022478 -1.564912   25.948968  1.625677\n",
       "10022479 -1.571463   26.500836  1.620499\n",
       "10022480 -1.507302   27.789902  1.605122\n",
       "10022481 -1.590637   25.398300  1.611574\n",
       "10022482 -1.575847   27.269351  1.604613\n",
       "10022483 -1.574750   28.617125  1.611056\n",
       "10022484 -1.550810   28.301127  1.582789\n",
       "10022485 -1.543169   26.355287  1.556661\n",
       "10022486 -1.504912   26.211712  1.611375\n",
       "10022487 -1.525852   27.558156  1.596373\n",
       "10022488 -1.496973   27.292099  1.604815\n",
       "10022489 -1.500150   26.243309  1.602228\n",
       "10022490 -1.499838   25.497607  1.595045\n",
       "10022491 -1.578556   25.634294  1.614391\n",
       "10022492 -1.586818   24.767562  1.606329\n",
       "10022493 -1.575744   25.592934  1.626448\n",
       "10022494 -1.576242   23.059000  1.604200\n",
       "10022495 -1.561562   25.429044  1.607625\n",
       "\n",
       "[10022496 rows x 3 columns]"
      ]
     },
     "execution_count": 21,
     "metadata": {},
     "output_type": "execute_result"
    }
   ],
   "source": [
    "import pandas as pd\n",
    "pd.DataFrame(data)"
   ]
  },
  {
   "cell_type": "code",
   "execution_count": 22,
   "metadata": {
    "scrolled": true
   },
   "outputs": [
    {
     "data": {
      "text/html": [
       "&lt;Table length=10022496&gt;\n",
       "<table id=\"table46963215148368\" class=\"table-striped table-bordered table-condensed\">\n",
       "<thead><tr><th>dec</th><th>mag_u_lsst</th><th>ra</th></tr></thead>\n",
       "<thead><tr><th>float32</th><th>float64</th><th>float32</th></tr></thead>\n",
       "<tr><td>-2.4939</td><td>22.854083964</td><td>2.04596</td></tr>\n",
       "<tr><td>-2.44659</td><td>20.898899778</td><td>-1.91125</td></tr>\n",
       "<tr><td>-2.47334</td><td>21.4988841667</td><td>0.767515</td></tr>\n",
       "<tr><td>-2.49098</td><td>23.3907129004</td><td>-1.92423</td></tr>\n",
       "<tr><td>-2.49899</td><td>23.3247952146</td><td>-1.9326</td></tr>\n",
       "<tr><td>-2.49779</td><td>24.6714314075</td><td>-1.93242</td></tr>\n",
       "<tr><td>-2.49282</td><td>24.6653968004</td><td>-1.93394</td></tr>\n",
       "<tr><td>-2.49029</td><td>25.2121852079</td><td>-1.94369</td></tr>\n",
       "<tr><td>-2.48444</td><td>24.5601718799</td><td>-1.93381</td></tr>\n",
       "<tr><td>-2.499</td><td>25.1153127079</td><td>-1.92925</td></tr>\n",
       "<tr><td>...</td><td>...</td><td>...</td></tr>\n",
       "<tr><td>-1.50491</td><td>26.2117123651</td><td>1.61138</td></tr>\n",
       "<tr><td>-1.52585</td><td>27.5581560531</td><td>1.59637</td></tr>\n",
       "<tr><td>-1.49697</td><td>27.2920994915</td><td>1.60481</td></tr>\n",
       "<tr><td>-1.50015</td><td>26.2433088084</td><td>1.60223</td></tr>\n",
       "<tr><td>-1.49984</td><td>25.4976073237</td><td>1.59504</td></tr>\n",
       "<tr><td>-1.57856</td><td>25.6342943852</td><td>1.61439</td></tr>\n",
       "<tr><td>-1.58682</td><td>24.7675616997</td><td>1.60633</td></tr>\n",
       "<tr><td>-1.57574</td><td>25.5929341432</td><td>1.62645</td></tr>\n",
       "<tr><td>-1.57624</td><td>23.0589998787</td><td>1.6042</td></tr>\n",
       "<tr><td>-1.56156</td><td>25.4290436948</td><td>1.60762</td></tr>\n",
       "</table>"
      ],
      "text/plain": [
       "<Table length=10022496>\n",
       "  dec      mag_u_lsst     ra   \n",
       "float32     float64    float32 \n",
       "-------- ------------- --------\n",
       " -2.4939  22.854083964  2.04596\n",
       "-2.44659  20.898899778 -1.91125\n",
       "-2.47334 21.4988841667 0.767515\n",
       "-2.49098 23.3907129004 -1.92423\n",
       "-2.49899 23.3247952146  -1.9326\n",
       "-2.49779 24.6714314075 -1.93242\n",
       "-2.49282 24.6653968004 -1.93394\n",
       "-2.49029 25.2121852079 -1.94369\n",
       "-2.48444 24.5601718799 -1.93381\n",
       "  -2.499 25.1153127079 -1.92925\n",
       "     ...           ...      ...\n",
       "-1.50491 26.2117123651  1.61138\n",
       "-1.52585 27.5581560531  1.59637\n",
       "-1.49697 27.2920994915  1.60481\n",
       "-1.50015 26.2433088084  1.60223\n",
       "-1.49984 25.4976073237  1.59504\n",
       "-1.57856 25.6342943852  1.61439\n",
       "-1.58682 24.7675616997  1.60633\n",
       "-1.57574 25.5929341432  1.62645\n",
       "-1.57624 23.0589998787   1.6042\n",
       "-1.56156 25.4290436948  1.60762"
      ]
     },
     "execution_count": 22,
     "metadata": {},
     "output_type": "execute_result"
    }
   ],
   "source": [
    "from astropy.table import Table\n",
    "Table(data)"
   ]
  },
  {
   "cell_type": "markdown",
   "metadata": {},
   "source": [
    "#### tip 2\n",
    "\n",
    "Sometimes you can allow slightly different quantiies (for example, lsst u band and sdss u band) when comparing different catalogs. In this case, you can use `first_available()` to get the first available of the given catalog."
   ]
  },
  {
   "cell_type": "code",
   "execution_count": 23,
   "metadata": {},
   "outputs": [
    {
     "name": "stderr",
     "output_type": "stream",
     "text": [
      "/global/common/software/lsst/common/miniconda/py3-4.2.12/lib/python3.6/site-packages/GCR.py:199: UserWarning: mag_u_des not available; using mag_u_sdss instead\n",
      "  warnings.warn('{} not available; using {} instead'.format(quantities[0], q))\n"
     ]
    },
    {
     "data": {
      "text/plain": [
       "'mag_u_sdss'"
      ]
     },
     "execution_count": 23,
     "metadata": {},
     "output_type": "execute_result"
    }
   ],
   "source": [
    "gc.first_available('mag_u_des', 'mag_u_sdss', 'mag_u_lsst')"
   ]
  },
  {
   "cell_type": "markdown",
   "metadata": {},
   "source": [
    "### Here's a full example"
   ]
  },
  {
   "cell_type": "code",
   "execution_count": 24,
   "metadata": {},
   "outputs": [],
   "source": [
    "import numpy as np\n",
    "from astropy.table import Table\n",
    "import matplotlib.pyplot as plt\n",
    "%matplotlib inline"
   ]
  },
  {
   "cell_type": "code",
   "execution_count": 25,
   "metadata": {},
   "outputs": [],
   "source": [
    "catalogs = ('protoDC2', 'buzzard_test')\n",
    "gc_all = dict(zip(catalogs, (GCRCatalogs.load_catalog(c) for c in catalogs)))"
   ]
  },
  {
   "cell_type": "code",
   "execution_count": 26,
   "metadata": {},
   "outputs": [
    {
     "name": "stderr",
     "output_type": "stream",
     "text": [
      "/global/common/software/lsst/common/miniconda/py3-4.2.12/lib/python3.6/site-packages/GCR.py:199: UserWarning: mag_g_lsst not available; using mag_g_des instead\n",
      "  warnings.warn('{} not available; using {} instead'.format(quantities[0], q))\n",
      "/global/common/software/lsst/common/miniconda/py3-4.2.12/lib/python3.6/site-packages/GCR.py:199: UserWarning: mag_r_lsst not available; using mag_r_des instead\n",
      "  warnings.warn('{} not available; using {} instead'.format(quantities[0], q))\n"
     ]
    },
    {
     "data": {
      "image/png": "[encoded data removed]",
      "text/plain": [
       "<matplotlib.figure.Figure at 0x2ab690b7e978>"
      ]
     },
     "metadata": {},
     "output_type": "display_data"
    }
   ],
   "source": [
    "fig, ax = plt.subplots(ncols=2, figsize=(12,5), dpi=100)\n",
    "\n",
    "for label, gc_this in gc_all.items():\n",
    "    mag_g = gc_this.first_available('mag_g_lsst', 'mag_g_sdss', 'mag_g_des')\n",
    "    mag_r = gc_this.first_available('mag_r_lsst', 'mag_r_sdss', 'mag_r_des')\n",
    "    redshift = gc_this.first_available('redshift_true', 'redshift')\n",
    "    quantities_needed = [mag_g, mag_r, redshift]\n",
    "    \n",
    "    data = Table(gc_this.get_quantities(quantities_needed, [redshift + '> 0.1', redshift + '< 0.3']))\n",
    "    \n",
    "    data = data[np.isfinite(data[mag_g]) & np.isfinite(data[mag_r])]\n",
    "    data = data[data[mag_r] < 22.0]\n",
    "    \n",
    "    ax[0].hist(data[redshift], 20, normed=True, alpha=0.6, label=label);\n",
    "    ax[1].hist(data[mag_g] - data[mag_r], 20, normed=True, alpha=0.6);\n",
    "\n",
    "ax[0].legend(frameon=False);\n",
    "ax[0].set_xlabel('$z$');\n",
    "ax[1].set_xlabel('$g-r$');"
   ]
  },
  {
   "cell_type": "markdown",
   "metadata": {
    "collapsed": true
   },
   "source": [
    "## Add-on catalogs\n",
    "\n",
    "This is an example to load \"add-on\" catalogs which can be joined to the main catalog with pandas"
   ]
  },
  {
   "cell_type": "code",
   "execution_count": 27,
   "metadata": {},
   "outputs": [],
   "source": [
    "import pandas as pd"
   ]
  },
  {
   "cell_type": "code",
   "execution_count": 28,
   "metadata": {},
   "outputs": [],
   "source": [
    "gc = GCRCatalogs.load_catalog('protoDC2')\n",
    "gc_tidal = GCRCatalogs.load_catalog('protoDC2_addon_tidal')"
   ]
  },
  {
   "cell_type": "code",
   "execution_count": 29,
   "metadata": {},
   "outputs": [],
   "source": [
    "data = pd.DataFrame(gc.get_quantities(['galaxy_id', 'ra', 'dec'])).set_index('galaxy_id')\n",
    "data_tidal = pd.DataFrame(gc_tidal.get_quantities(gc_tidal.list_all_quantities())).set_index('galaxy_id').join(data)"
   ]
  },
  {
   "cell_type": "code",
   "execution_count": null,
   "metadata": {},
   "outputs": [],
   "source": []
  }
 ],
 "metadata": {
  "kernelspec": {
   "display_name": "Python 3",
   "language": "python",
   "name": "python3"
  },
  "language_info": {
   "codemirror_mode": {
    "name": "ipython",
    "version": 3
   },
   "file_extension": ".py",
   "mimetype": "text/x-python",
   "name": "python",
   "nbconvert_exporter": "python",
   "pygments_lexer": "ipython3",
   "version": "3.6.1"
  }
 },
 "nbformat": 4,
 "nbformat_minor": 2
}
